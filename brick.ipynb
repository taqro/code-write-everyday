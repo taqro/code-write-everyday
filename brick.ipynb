{
  "nbformat": 4,
  "nbformat_minor": 0,
  "metadata": {
    "colab": {
      "name": "brick.ipynb",
      "provenance": [],
      "authorship_tag": "ABX9TyNmZrSd7TZq8pBxhqeNL6DL",
      "include_colab_link": true
    },
    "kernelspec": {
      "name": "python3",
      "display_name": "Python 3"
    },
    "language_info": {
      "name": "python"
    }
  },
  "cells": [
    {
      "cell_type": "markdown",
      "metadata": {
        "id": "view-in-github",
        "colab_type": "text"
      },
      "source": [
        "<a href=\"https://colab.research.google.com/github/taqro/code-write-everyday/blob/master/brick.ipynb\" target=\"_parent\"><img src=\"https://colab.research.google.com/assets/colab-badge.svg\" alt=\"Open In Colab\"/></a>"
      ]
    },
    {
      "cell_type": "code",
      "execution_count": 2,
      "metadata": {
        "colab": {
          "base_uri": "https://localhost:8080/"
        },
        "id": "lsXnlFIp2PLb",
        "outputId": "2b4078a9-49fc-435d-b61f-3e08a762e78f"
      },
      "outputs": [
        {
          "output_type": "stream",
          "name": "stdout",
          "text": [
            "1000 1\n",
            "1000\n"
          ]
        }
      ],
      "source": [
        "N, W = map(int, input().split())\n",
        "\n",
        "ans = N // W\n",
        "print(ans)"
      ]
    }
  ]
}