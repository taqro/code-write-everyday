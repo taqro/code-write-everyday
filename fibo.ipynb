{
  "nbformat": 4,
  "nbformat_minor": 0,
  "metadata": {
    "colab": {
      "name": "fibo.ipynb",
      "provenance": [],
      "authorship_tag": "ABX9TyONXS252FyhxUxnthJ7jds1",
      "include_colab_link": true
    },
    "kernelspec": {
      "name": "python3",
      "display_name": "Python 3"
    },
    "language_info": {
      "name": "python"
    }
  },
  "cells": [
    {
      "cell_type": "markdown",
      "metadata": {
        "id": "view-in-github",
        "colab_type": "text"
      },
      "source": [
        "<a href=\"https://colab.research.google.com/github/taqro/code-write-everyday/blob/master/fibo.ipynb\" target=\"_parent\"><img src=\"https://colab.research.google.com/assets/colab-badge.svg\" alt=\"Open In Colab\"/></a>"
      ]
    },
    {
      "cell_type": "code",
      "execution_count": 13,
      "metadata": {
        "colab": {
          "base_uri": "https://localhost:8080/"
        },
        "id": "xMLKJkRej84i",
        "outputId": "dde26a41-80d0-4f77-a807-9b35a34a5e62"
      },
      "outputs": [
        {
          "output_type": "stream",
          "name": "stdout",
          "text": [
            "[-1, -1, 1, 2, 3, 5, 8, 13, 21, 34, 55, 89, 144, 233, 377, 610, 987, 1597, 2584, 4181, 6765, 10946, 17711, 28657, 46368, 75025, 121393, 196418, 317811, 514229, 832040, 1346269, 2178309, 3524578, 5702887, 9227465, 14930352, 24157817, 39088169, 63245986, 102334155, 165580141, 267914296, 433494437, 701408733, 1134903170, 1836311903, 2971215073, 4807526976, 7778742049]\n",
            "-1\n",
            "-1\n",
            "2\n",
            "3\n",
            "5\n",
            "13\n",
            "55\n",
            "610\n",
            "28657\n",
            "14930352\n"
          ]
        }
      ],
      "source": [
        "# メモを宣言\n",
        "memo = []\n",
        "\n",
        "# フィボナッチ関数\n",
        "def fibo(N):\n",
        "  # ベースケース\n",
        "  if N == 0 :\n",
        "    return 0\n",
        "  elif N == 1 :\n",
        "    return 1\n",
        "  \n",
        "  # メモをチェック\n",
        "  if memo[N] != -1:\n",
        "    return memo[N]\n",
        "  \n",
        "  # 答えをメモ化しながら、再帰呼び出し\n",
        "  memo[N] = fibo(N - 1) + fibo (N - 2)\n",
        "  return memo[N]\n",
        "\n",
        "# -1で初期化\n",
        "memo = [-1] * 50\n",
        "\n",
        "# fibo(49)を呼び出す\n",
        "fibo(49)\n",
        "\n",
        "print(memo)\n",
        "\n",
        "\n",
        "# memo[0], ... ,[49]に答えが格納されている\n",
        "for i in memo:\n",
        "  if i <= 50:\n",
        "    print(memo[i + 2])\n",
        "\n",
        "\n",
        "\n"
      ]
    },
    {
      "cell_type": "code",
      "source": [
        ""
      ],
      "metadata": {
        "id": "EMviCwsvmcYn"
      },
      "execution_count": null,
      "outputs": []
    }
  ]
}