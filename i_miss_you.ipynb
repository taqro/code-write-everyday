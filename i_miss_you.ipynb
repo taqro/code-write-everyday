{
  "nbformat": 4,
  "nbformat_minor": 0,
  "metadata": {
    "colab": {
      "name": "i_miss_you.ipynb",
      "provenance": [],
      "authorship_tag": "ABX9TyPl7g6xpqkdQEeAaxQNKjam",
      "include_colab_link": true
    },
    "kernelspec": {
      "name": "python3",
      "display_name": "Python 3"
    },
    "language_info": {
      "name": "python"
    }
  },
  "cells": [
    {
      "cell_type": "markdown",
      "metadata": {
        "id": "view-in-github",
        "colab_type": "text"
      },
      "source": [
        "<a href=\"https://colab.research.google.com/github/taqro/code-write-everyday/blob/master/i_miss_you.ipynb\" target=\"_parent\"><img src=\"https://colab.research.google.com/assets/colab-badge.svg\" alt=\"Open In Colab\"/></a>"
      ]
    },
    {
      "cell_type": "code",
      "execution_count": 2,
      "metadata": {
        "colab": {
          "base_uri": "https://localhost:8080/"
        },
        "id": "CRmD-iCXH64n",
        "outputId": "33f7195e-f10a-47e5-db43-97486870fc0c"
      },
      "outputs": [
        {
          "output_type": "stream",
          "name": "stdout",
          "text": [
            "aaaaa\n",
            "5\n",
            "xxxxx\n"
          ]
        }
      ],
      "source": [
        "# 入力\n",
        "S = input()\n",
        "\n",
        "print(len(S))\n",
        "\n",
        "S = \"x\" * len(S)\n",
        "\n",
        "print(S)"
      ]
    }
  ]
}