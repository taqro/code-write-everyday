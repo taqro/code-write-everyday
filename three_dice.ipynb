{
  "nbformat": 4,
  "nbformat_minor": 0,
  "metadata": {
    "colab": {
      "name": "three_dice.ipynb",
      "provenance": [],
      "authorship_tag": "ABX9TyMhL2orSGMkXVhEU1gQbHI0",
      "include_colab_link": true
    },
    "kernelspec": {
      "name": "python3",
      "display_name": "Python 3"
    },
    "language_info": {
      "name": "python"
    }
  },
  "cells": [
    {
      "cell_type": "markdown",
      "metadata": {
        "id": "view-in-github",
        "colab_type": "text"
      },
      "source": [
        "<a href=\"https://colab.research.google.com/github/taqro/code-write-everyday/blob/master/three_dice.ipynb\" target=\"_parent\"><img src=\"https://colab.research.google.com/assets/colab-badge.svg\" alt=\"Open In Colab\"/></a>"
      ]
    },
    {
      "cell_type": "code",
      "execution_count": 1,
      "metadata": {
        "colab": {
          "base_uri": "https://localhost:8080/"
        },
        "id": "BPGfCEuDnGmg",
        "outputId": "9afcb542-4a16-4730-bf81-4323f3432a72"
      },
      "outputs": [
        {
          "output_type": "stream",
          "name": "stdout",
          "text": [
            "1 4 3\n",
            "13\n"
          ]
        }
      ],
      "source": [
        "a, b, c = map(int, input().split())\n",
        "\n",
        "ans = (7 - a) + (7 - b) + (7 - c)\n",
        "\n",
        "print(ans)"
      ]
    }
  ]
}