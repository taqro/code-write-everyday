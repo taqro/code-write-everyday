{
  "nbformat": 4,
  "nbformat_minor": 0,
  "metadata": {
    "colab": {
      "name": "card_game_for_two.ipynb",
      "provenance": [],
      "authorship_tag": "ABX9TyPGi+PSrR5PYpIknA4zvLhZ",
      "include_colab_link": true
    },
    "kernelspec": {
      "name": "python3",
      "display_name": "Python 3"
    },
    "language_info": {
      "name": "python"
    }
  },
  "cells": [
    {
      "cell_type": "markdown",
      "metadata": {
        "id": "view-in-github",
        "colab_type": "text"
      },
      "source": [
        "<a href=\"https://colab.research.google.com/github/taqro/code-write-everyday/blob/master/card_game_for_two.ipynb\" target=\"_parent\"><img src=\"https://colab.research.google.com/assets/colab-badge.svg\" alt=\"Open In Colab\"/></a>"
      ]
    },
    {
      "cell_type": "code",
      "execution_count": 8,
      "metadata": {
        "colab": {
          "base_uri": "https://localhost:8080/"
        },
        "id": "5JPQRh5-f4dM",
        "outputId": "d510d018-68bb-448d-cfd2-81ac255b6bcd"
      },
      "outputs": [
        {
          "output_type": "stream",
          "name": "stdout",
          "text": [
            "Nを入力（1以上100以下の整数）\n",
            "5\n",
            "aの要素を入力（1以上100以下の整数）\n",
            "1\n",
            "6\n",
            "3\n",
            "2\n",
            "8\n",
            "[8, 6, 3, 2, 1]\n",
            "12\n",
            "8\n",
            "4\n"
          ]
        }
      ],
      "source": [
        "# 入力\n",
        "print(\"Nを入力（1以上100以下の整数）\")\n",
        "N = int(input())\n",
        "a = [0] * N\n",
        "print(\"aの要素を入力（1以上100以下の整数）\")\n",
        "for i in range(N):\n",
        "  a[i] = int(input())\n",
        "# 昇順に並べ替え\n",
        "a.sort(reverse=True)\n",
        "print(a)\n",
        "\n",
        "# Aliceの得点\n",
        "x = 0\n",
        "\n",
        "# Bobの得点\n",
        "y = 0\n",
        "\n",
        "for i in range(N):\n",
        "  if i % 2 == 0:\n",
        "    x += a[i]\n",
        "  else:\n",
        "    y += a[i]\n",
        "\n",
        "print(x)\n",
        "print(y)\n",
        "\n",
        "result = x - y\n",
        "print(result)\n",
        "\n"
      ]
    }
  ]
}