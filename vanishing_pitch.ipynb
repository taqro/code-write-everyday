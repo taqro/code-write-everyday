{
  "nbformat": 4,
  "nbformat_minor": 0,
  "metadata": {
    "colab": {
      "name": "vanishing_pitch.ipynb",
      "provenance": [],
      "authorship_tag": "ABX9TyPIt4r7Ww15xuXAd7Ei5dBj",
      "include_colab_link": true
    },
    "kernelspec": {
      "name": "python3",
      "display_name": "Python 3"
    },
    "language_info": {
      "name": "python"
    }
  },
  "cells": [
    {
      "cell_type": "markdown",
      "metadata": {
        "id": "view-in-github",
        "colab_type": "text"
      },
      "source": [
        "<a href=\"https://colab.research.google.com/github/taqro/code-write-everyday/blob/master/vanishing_pitch.ipynb\" target=\"_parent\"><img src=\"https://colab.research.google.com/assets/colab-badge.svg\" alt=\"Open In Colab\"/></a>"
      ]
    },
    {
      "cell_type": "code",
      "execution_count": 3,
      "metadata": {
        "colab": {
          "base_uri": "https://localhost:8080/"
        },
        "id": "KzNwX6uDSmF9",
        "outputId": "124ceb24-7b36-4d12-ff88-3b61568c10c7"
      },
      "outputs": [
        {
          "output_type": "stream",
          "name": "stdout",
          "text": [
            "10 3 5 30\n",
            "No\n"
          ]
        }
      ],
      "source": [
        "V, T, S, D = map(int, input().split())\n",
        "\n",
        "if V * T <= D <= V * S:\n",
        "  print(\"No\")\n",
        "else:\n",
        "  print(\"Yes\") "
      ]
    }
  ]
}