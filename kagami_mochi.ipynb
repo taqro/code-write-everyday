{
  "nbformat": 4,
  "nbformat_minor": 0,
  "metadata": {
    "colab": {
      "name": "kagami_mochi.ipynb",
      "provenance": [],
      "authorship_tag": "ABX9TyOo/1wC7DEDNwH+VvHhI5vc",
      "include_colab_link": true
    },
    "kernelspec": {
      "name": "python3",
      "display_name": "Python 3"
    },
    "language_info": {
      "name": "python"
    }
  },
  "cells": [
    {
      "cell_type": "markdown",
      "metadata": {
        "id": "view-in-github",
        "colab_type": "text"
      },
      "source": [
        "<a href=\"https://colab.research.google.com/github/taqro/code-write-everyday/blob/master/kagami_mochi.ipynb\" target=\"_parent\"><img src=\"https://colab.research.google.com/assets/colab-badge.svg\" alt=\"Open In Colab\"/></a>"
      ]
    },
    {
      "cell_type": "code",
      "execution_count": 4,
      "metadata": {
        "colab": {
          "base_uri": "https://localhost:8080/"
        },
        "id": "WFqhXrDJC38X",
        "outputId": "251c5faf-69a2-4a88-fcfd-e2e361062024"
      },
      "outputs": [
        {
          "output_type": "stream",
          "name": "stdout",
          "text": [
            "整数の数を入力\n",
            "10\n",
            "N個の整数を入力\n",
            "1\n",
            "1\n",
            "3\n",
            "2\n",
            "2\n",
            "1\n",
            "9\n",
            "5\n",
            "3\n",
            "3\n",
            "5\n"
          ]
        }
      ],
      "source": [
        "# 入力\n",
        "print(\"整数の数を入力\")\n",
        "N = int(input())\n",
        "a = [0] * N\n",
        "print(\"N個の整数を入力\")\n",
        "for i in range(N):\n",
        "  a[i] = int(input())\n",
        "\n",
        "# 昇順に並び替え\n",
        "a.sort()\n",
        "\n",
        "# 異なる値の種類数\n",
        "sum = 0\n",
        "\n",
        "num = 0\n",
        "\n",
        "i = 0\n",
        "while i < N:\n",
        "  # a[i]は何個重複しているか\n",
        "  cnt = 0\n",
        "  for j in range(N):\n",
        "    if a[i] == a[j]:\n",
        "      cnt += 1\n",
        "  sum += 1\n",
        "  # 次の種類の数へ\n",
        "  i += cnt\n",
        "\n",
        "print(sum)\n",
        "\n"
      ]
    }
  ]
}