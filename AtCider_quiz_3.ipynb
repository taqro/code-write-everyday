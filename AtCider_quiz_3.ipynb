{
  "nbformat": 4,
  "nbformat_minor": 0,
  "metadata": {
    "colab": {
      "name": "AtCider_quiz_3.ipynb",
      "provenance": [],
      "authorship_tag": "ABX9TyOrGJWSnjlAPDc8DyoWOqFn",
      "include_colab_link": true
    },
    "kernelspec": {
      "name": "python3",
      "display_name": "Python 3"
    },
    "language_info": {
      "name": "python"
    }
  },
  "cells": [
    {
      "cell_type": "markdown",
      "metadata": {
        "id": "view-in-github",
        "colab_type": "text"
      },
      "source": [
        "<a href=\"https://colab.research.google.com/github/taqro/code-write-everyday/blob/master/AtCider_quiz_3.ipynb\" target=\"_parent\"><img src=\"https://colab.research.google.com/assets/colab-badge.svg\" alt=\"Open In Colab\"/></a>"
      ]
    },
    {
      "cell_type": "code",
      "execution_count": 3,
      "metadata": {
        "colab": {
          "base_uri": "https://localhost:8080/"
        },
        "id": "dQFutBLOWmJa",
        "outputId": "3098a3aa-6c0e-4f33-ea6b-8d7ff6d3c63b"
      },
      "outputs": [
        {
          "output_type": "stream",
          "name": "stdout",
          "text": [
            "42\n",
            "AGC043\n"
          ]
        }
      ],
      "source": [
        "# 入力\n",
        "N = int(input())\n",
        "\n",
        "res = \"AGC\"\n",
        "\n",
        "if N < 10:\n",
        "  res = res + \"00\" + str(N)\n",
        "\n",
        "if 10 <= N < 42:\n",
        "  res = res + \"0\" + str(N)\n",
        "\n",
        "if 42 <= N:\n",
        "  res = res + \"0\" + str(N + 1)\n",
        "\n",
        "print(res)"
      ]
    }
  ]
}