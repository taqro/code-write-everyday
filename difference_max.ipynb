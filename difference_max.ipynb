{
  "nbformat": 4,
  "nbformat_minor": 0,
  "metadata": {
    "colab": {
      "name": "difference_max.ipynb",
      "provenance": [],
      "authorship_tag": "ABX9TyO2vzzPlwx3gVkvD+nWf0IY",
      "include_colab_link": true
    },
    "kernelspec": {
      "name": "python3",
      "display_name": "Python 3"
    },
    "language_info": {
      "name": "python"
    }
  },
  "cells": [
    {
      "cell_type": "markdown",
      "metadata": {
        "id": "view-in-github",
        "colab_type": "text"
      },
      "source": [
        "<a href=\"https://colab.research.google.com/github/taqro/code-write-everyday/blob/master/difference_max.ipynb\" target=\"_parent\"><img src=\"https://colab.research.google.com/assets/colab-badge.svg\" alt=\"Open In Colab\"/></a>"
      ]
    },
    {
      "cell_type": "code",
      "execution_count": null,
      "metadata": {
        "id": "wgk4yq6-BelQ"
      },
      "outputs": [],
      "source": [
        "a, b = map(int, input().split())\n",
        "c, d = map(int, input().split())\n",
        "\n",
        "ans = b - c\n",
        "print(ans)"
      ]
    }
  ]
}