{
  "nbformat": 4,
  "nbformat_minor": 0,
  "metadata": {
    "colab": {
      "name": "A.ipynb",
      "provenance": [],
      "authorship_tag": "ABX9TyP4O5AVjXvnz5HxifdYXQet",
      "include_colab_link": true
    },
    "kernelspec": {
      "name": "python3",
      "display_name": "Python 3"
    },
    "language_info": {
      "name": "python"
    }
  },
  "cells": [
    {
      "cell_type": "markdown",
      "metadata": {
        "id": "view-in-github",
        "colab_type": "text"
      },
      "source": [
        "<a href=\"https://colab.research.google.com/github/taqro/code-write-everyday/blob/master/A.ipynb\" target=\"_parent\"><img src=\"https://colab.research.google.com/assets/colab-badge.svg\" alt=\"Open In Colab\"/></a>"
      ]
    },
    {
      "cell_type": "code",
      "execution_count": 2,
      "metadata": {
        "colab": {
          "base_uri": "https://localhost:8080/"
        },
        "id": "iek6B4-5eBqg",
        "outputId": "8f885717-8431-472f-fefd-3977a6ebc1ce"
      },
      "outputs": [
        {
          "output_type": "stream",
          "name": "stdout",
          "text": [
            "A\n",
            "1\n"
          ]
        }
      ],
      "source": [
        "X = input()\n",
        "\n",
        "if X == \"A\":\n",
        "  print(1)\n",
        "elif X == \"B\":\n",
        "  print(2)\n",
        "elif X == \"C\":\n",
        "  print(3)\n",
        "elif X == \"D\":\n",
        "  print(4)\n",
        "elif X == \"E\":\n",
        "  print(5)"
      ]
    }
  ]
}