{
  "nbformat": 4,
  "nbformat_minor": 0,
  "metadata": {
    "colab": {
      "name": "Lexicographic_Order.ipynb",
      "provenance": [],
      "authorship_tag": "ABX9TyNPfydmFvKRYPLJKZ6V+gJ8",
      "include_colab_link": true
    },
    "kernelspec": {
      "name": "python3",
      "display_name": "Python 3"
    },
    "language_info": {
      "name": "python"
    }
  },
  "cells": [
    {
      "cell_type": "markdown",
      "metadata": {
        "id": "view-in-github",
        "colab_type": "text"
      },
      "source": [
        "<a href=\"https://colab.research.google.com/github/taqro/code-write-everyday/blob/master/Lexicographic_Order.ipynb\" target=\"_parent\"><img src=\"https://colab.research.google.com/assets/colab-badge.svg\" alt=\"Open In Colab\"/></a>"
      ]
    },
    {
      "cell_type": "code",
      "execution_count": 6,
      "metadata": {
        "colab": {
          "base_uri": "https://localhost:8080/"
        },
        "id": "R4t6demD66jI",
        "outputId": "e8948690-778b-436f-dc2e-bd9f125f1b0b"
      },
      "outputs": [
        {
          "output_type": "stream",
          "name": "stdout",
          "text": [
            "arc agc\n",
            "['agc', 'arc']\n",
            "['arc', 'agc']\n",
            "No\n"
          ]
        }
      ],
      "source": [
        "# 入力\n",
        "a = list(input().split())\n",
        "\n",
        "b =  sorted(a)\n",
        "\n",
        "ans = \"Yes\"\n",
        "if b[0] != a[0]:\n",
        "    ans = \"No\"\n",
        "\n",
        "print(ans)"
      ]
    }
  ]
}