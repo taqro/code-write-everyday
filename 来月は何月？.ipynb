{
  "nbformat": 4,
  "nbformat_minor": 0,
  "metadata": {
    "colab": {
      "name": "来月は何月？.ipynb",
      "provenance": [],
      "authorship_tag": "ABX9TyOyQdyRjEW7oaUDlZEW6Lqb",
      "include_colab_link": true
    },
    "kernelspec": {
      "name": "python3",
      "display_name": "Python 3"
    },
    "language_info": {
      "name": "python"
    }
  },
  "cells": [
    {
      "cell_type": "markdown",
      "metadata": {
        "id": "view-in-github",
        "colab_type": "text"
      },
      "source": [
        "<a href=\"https://colab.research.google.com/github/taqro/code-write-everyday/blob/master/%E6%9D%A5%E6%9C%88%E3%81%AF%E4%BD%95%E6%9C%88%EF%BC%9F.ipynb\" target=\"_parent\"><img src=\"https://colab.research.google.com/assets/colab-badge.svg\" alt=\"Open In Colab\"/></a>"
      ]
    },
    {
      "cell_type": "code",
      "execution_count": 1,
      "metadata": {
        "colab": {
          "base_uri": "https://localhost:8080/"
        },
        "id": "pNx0KgB-b_zD",
        "outputId": "ca9ed837-e340-49ec-bfc4-925d1c9f5397"
      },
      "outputs": [
        {
          "output_type": "stream",
          "name": "stdout",
          "text": [
            "12\n",
            "1\n"
          ]
        }
      ],
      "source": [
        "N = int(input())\n",
        "\n",
        "if N != 12:\n",
        "  print(N + 1)\n",
        "else:\n",
        "  print(1)"
      ]
    }
  ]
}