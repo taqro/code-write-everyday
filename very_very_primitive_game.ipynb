{
  "nbformat": 4,
  "nbformat_minor": 0,
  "metadata": {
    "colab": {
      "name": "very_very_primitive_game.ipynb",
      "provenance": [],
      "authorship_tag": "ABX9TyNsEb3d/M88UqAcz5aK5N+N",
      "include_colab_link": true
    },
    "kernelspec": {
      "name": "python3",
      "display_name": "Python 3"
    },
    "language_info": {
      "name": "python"
    }
  },
  "cells": [
    {
      "cell_type": "markdown",
      "metadata": {
        "id": "view-in-github",
        "colab_type": "text"
      },
      "source": [
        "<a href=\"https://colab.research.google.com/github/taqro/code-write-everyday/blob/master/very_very_primitive_game.ipynb\" target=\"_parent\"><img src=\"https://colab.research.google.com/assets/colab-badge.svg\" alt=\"Open In Colab\"/></a>"
      ]
    },
    {
      "cell_type": "code",
      "execution_count": 6,
      "metadata": {
        "colab": {
          "base_uri": "https://localhost:8080/"
        },
        "id": "xyP5DPbPTX2_",
        "outputId": "e944cc4e-7e7e-4c9f-970c-050cec01e9a1"
      },
      "outputs": [
        {
          "output_type": "stream",
          "name": "stdout",
          "text": [
            "0 0 1\n",
            "Takahashi\n"
          ]
        }
      ],
      "source": [
        "A, B, C = map(int, input().split())\n",
        "\n",
        "if C == 0:\n",
        "  for i in range(100):\n",
        "    A -= 1\n",
        "    if A <= 0 :\n",
        "      print(\"Aoki\")\n",
        "      break\n",
        "    B -= 1\n",
        "    if B <= 0:\n",
        "      print(\"Takahashi\")\n",
        "      break\n",
        "elif C == 1:\n",
        "  for i in range(100):\n",
        "    B -= 1\n",
        "    if B <= 0:\n",
        "      print(\"Takahashi\")\n",
        "      break\n",
        "    A -= 1\n",
        "    if A <= 0:\n",
        "      print(\"Aoki\")\n",
        "      break"
      ]
    }
  ]
}