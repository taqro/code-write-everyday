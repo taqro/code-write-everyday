{
  "nbformat": 4,
  "nbformat_minor": 0,
  "metadata": {
    "colab": {
      "name": "find_multiple.ipynb",
      "provenance": [],
      "authorship_tag": "ABX9TyOgzymtrdPmYluEydQl1qJa",
      "include_colab_link": true
    },
    "kernelspec": {
      "name": "python3",
      "display_name": "Python 3"
    },
    "language_info": {
      "name": "python"
    }
  },
  "cells": [
    {
      "cell_type": "markdown",
      "metadata": {
        "id": "view-in-github",
        "colab_type": "text"
      },
      "source": [
        "<a href=\"https://colab.research.google.com/github/taqro/code-write-everyday/blob/master/find_multiple.ipynb\" target=\"_parent\"><img src=\"https://colab.research.google.com/assets/colab-badge.svg\" alt=\"Open In Colab\"/></a>"
      ]
    },
    {
      "cell_type": "code",
      "execution_count": 4,
      "metadata": {
        "colab": {
          "base_uri": "https://localhost:8080/"
        },
        "id": "_koJzCHL3jAT",
        "outputId": "fb75dbcc-66e3-4ff8-cfb6-e800e08407b0"
      },
      "outputs": [
        {
          "output_type": "stream",
          "name": "stdout",
          "text": [
            "630 940 314\n",
            "-1\n"
          ]
        }
      ],
      "source": [
        "# 入力\n",
        "A, B, C = map(int, input().split())\n",
        "\n",
        "res = -1\n",
        "for i in range(A, B + 1):\n",
        "  if i % C == 0:\n",
        "    res = i\n",
        "    break\n",
        "\n",
        "print(res)"
      ]
    }
  ]
}