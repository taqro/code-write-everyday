{
  "nbformat": 4,
  "nbformat_minor": 0,
  "metadata": {
    "colab": {
      "name": "おいしいたこ焼きの作り方.ipynb",
      "provenance": [],
      "authorship_tag": "ABX9TyO6UbEq/J7PLZ+4g8wHxJch",
      "include_colab_link": true
    },
    "kernelspec": {
      "name": "python3",
      "display_name": "Python 3"
    },
    "language_info": {
      "name": "python"
    }
  },
  "cells": [
    {
      "cell_type": "markdown",
      "metadata": {
        "id": "view-in-github",
        "colab_type": "text"
      },
      "source": [
        "<a href=\"https://colab.research.google.com/github/taqro/code-write-everyday/blob/master/%E3%81%8A%E3%81%84%E3%81%97%E3%81%84%E3%81%9F%E3%81%93%E7%84%BC%E3%81%8D%E3%81%AE%E4%BD%9C%E3%82%8A%E6%96%B9.ipynb\" target=\"_parent\"><img src=\"https://colab.research.google.com/assets/colab-badge.svg\" alt=\"Open In Colab\"/></a>"
      ]
    },
    {
      "cell_type": "code",
      "execution_count": 3,
      "metadata": {
        "colab": {
          "base_uri": "https://localhost:8080/"
        },
        "id": "060JDYc7XQk1",
        "outputId": "355240e9-72a0-4af6-b095-1a434970afbb"
      },
      "outputs": [
        {
          "output_type": "stream",
          "name": "stdout",
          "text": [
            "4 3\n",
            "0\n"
          ]
        }
      ],
      "source": [
        "x, y = map(int, input().split())\n",
        "\n",
        "print(y // x)"
      ]
    }
  ]
}