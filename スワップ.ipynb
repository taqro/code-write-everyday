{
  "nbformat": 4,
  "nbformat_minor": 0,
  "metadata": {
    "colab": {
      "name": "スワップ.ipynb",
      "provenance": [],
      "authorship_tag": "ABX9TyMjaML/sKr4gUjfBvf/PDm0",
      "include_colab_link": true
    },
    "kernelspec": {
      "name": "python3",
      "display_name": "Python 3"
    },
    "language_info": {
      "name": "python"
    }
  },
  "cells": [
    {
      "cell_type": "markdown",
      "metadata": {
        "id": "view-in-github",
        "colab_type": "text"
      },
      "source": [
        "<a href=\"https://colab.research.google.com/github/taqro/code-write-everyday/blob/master/%E3%82%B9%E3%83%AF%E3%83%83%E3%83%97.ipynb\" target=\"_parent\"><img src=\"https://colab.research.google.com/assets/colab-badge.svg\" alt=\"Open In Colab\"/></a>"
      ]
    },
    {
      "cell_type": "code",
      "execution_count": 2,
      "metadata": {
        "colab": {
          "base_uri": "https://localhost:8080/"
        },
        "id": "_BT71b4Rdfss",
        "outputId": "9811325a-9f30-4b0a-cb09-efbca871037e"
      },
      "outputs": [
        {
          "output_type": "stream",
          "name": "stdout",
          "text": [
            "5 5\n",
            "5 5\n"
          ]
        }
      ],
      "source": [
        "A, B = input().split()\n",
        "\n",
        "print(B + \" \" + A)\n"
      ]
    }
  ]
}