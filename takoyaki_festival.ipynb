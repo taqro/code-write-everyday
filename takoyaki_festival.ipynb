{
  "nbformat": 4,
  "nbformat_minor": 0,
  "metadata": {
    "colab": {
      "name": "takoyaki_festival.ipynb",
      "provenance": [],
      "authorship_tag": "ABX9TyNEst89OJDEy0Uy4BxKibzW",
      "include_colab_link": true
    },
    "kernelspec": {
      "name": "python3",
      "display_name": "Python 3"
    },
    "language_info": {
      "name": "python"
    }
  },
  "cells": [
    {
      "cell_type": "markdown",
      "metadata": {
        "id": "view-in-github",
        "colab_type": "text"
      },
      "source": [
        "<a href=\"https://colab.research.google.com/github/taqro/code-write-everyday/blob/master/takoyaki_festival.ipynb\" target=\"_parent\"><img src=\"https://colab.research.google.com/assets/colab-badge.svg\" alt=\"Open In Colab\"/></a>"
      ]
    },
    {
      "cell_type": "code",
      "execution_count": 4,
      "metadata": {
        "colab": {
          "base_uri": "https://localhost:8080/"
        },
        "id": "wjjqJgEusFAC",
        "outputId": "5b58e792-48cc-4fe2-a8d7-7e034f987d3e"
      },
      "outputs": [
        {
          "output_type": "stream",
          "name": "stdout",
          "text": [
            "7\n",
            "5 0 7 8 3 3 2\n",
            "312\n"
          ]
        }
      ],
      "source": [
        "# 入力\n",
        "N = int(input())\n",
        "\n",
        "d = list(map(int, input().split()))\n",
        "\n",
        "sum = 0\n",
        "\n",
        "for i in range(N - 1):\n",
        "  for j in range(i + 1, N):\n",
        "    sum += d[i] * d[j]\n",
        "\n",
        "print(sum)"
      ]
    }
  ]
}