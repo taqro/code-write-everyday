{
  "nbformat": 4,
  "nbformat_minor": 0,
  "metadata": {
    "colab": {
      "name": "some_sums.ipynb",
      "provenance": [],
      "authorship_tag": "ABX9TyPdzoChnSDojK3uDZUiLZ54",
      "include_colab_link": true
    },
    "kernelspec": {
      "name": "python3",
      "display_name": "Python 3"
    },
    "language_info": {
      "name": "python"
    }
  },
  "cells": [
    {
      "cell_type": "markdown",
      "metadata": {
        "id": "view-in-github",
        "colab_type": "text"
      },
      "source": [
        "<a href=\"https://colab.research.google.com/github/taqro/code-write-everyday/blob/master/some_sums.ipynb\" target=\"_parent\"><img src=\"https://colab.research.google.com/assets/colab-badge.svg\" alt=\"Open In Colab\"/></a>"
      ]
    },
    {
      "cell_type": "code",
      "execution_count": 7,
      "metadata": {
        "colab": {
          "base_uri": "https://localhost:8080/"
        },
        "id": "I6NDhWOBq2el",
        "outputId": "1200ba41-c150-4237-ba33-44a6986fe6fd"
      },
      "outputs": [
        {
          "output_type": "stream",
          "name": "stdout",
          "text": [
            "20\n",
            "1≤A≤B≤36を入力\n",
            "2\n",
            "5\n",
            "84\n"
          ]
        }
      ],
      "source": [
        "# 入力\n",
        "N = int(input())\n",
        "print(\"1≤A≤B≤36を入力\")\n",
        "A = int(input())\n",
        "B = int(input())\n",
        "\n",
        "sum = 0\n",
        "\n",
        "for i in range(1, N + 1):\n",
        "  a = str(i)\n",
        "  b = 0\n",
        "  # 各桁の和を求める\n",
        "  for j in range(len(a)):\n",
        "    b += int(a[j])\n",
        "\n",
        "  if A <= b <= B:\n",
        "    sum += i\n",
        "\n",
        "print(sum)"
      ]
    }
  ]
}