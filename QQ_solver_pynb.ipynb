{
  "nbformat": 4,
  "nbformat_minor": 0,
  "metadata": {
    "colab": {
      "name": "QQ_solver.pynb",
      "provenance": [],
      "authorship_tag": "ABX9TyN85yzcXryO0KcNhZfIgNQF",
      "include_colab_link": true
    },
    "kernelspec": {
      "name": "python3",
      "display_name": "Python 3"
    },
    "language_info": {
      "name": "python"
    }
  },
  "cells": [
    {
      "cell_type": "markdown",
      "metadata": {
        "id": "view-in-github",
        "colab_type": "text"
      },
      "source": [
        "<a href=\"https://colab.research.google.com/github/taqro/code-write-everyday/blob/master/QQ_solver_pynb.ipynb\" target=\"_parent\"><img src=\"https://colab.research.google.com/assets/colab-badge.svg\" alt=\"Open In Colab\"/></a>"
      ]
    },
    {
      "cell_type": "code",
      "execution_count": 2,
      "metadata": {
        "colab": {
          "base_uri": "https://localhost:8080/"
        },
        "id": "LJ7DYytwUkkq",
        "outputId": "f03b247d-02a9-428a-cf7c-2536e185237a"
      },
      "outputs": [
        {
          "output_type": "stream",
          "name": "stdout",
          "text": [
            "3x2\n",
            "6\n"
          ]
        }
      ],
      "source": [
        "# 入力\n",
        "S = list(input())\n",
        "\n",
        "res = int(S[0]) * int(S[2])\n",
        "\n",
        "print(res)"
      ]
    }
  ]
}