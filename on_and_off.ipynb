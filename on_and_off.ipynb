{
  "nbformat": 4,
  "nbformat_minor": 0,
  "metadata": {
    "colab": {
      "name": "on_and_off.ipynb",
      "provenance": [],
      "authorship_tag": "ABX9TyMqAKUZJTTolIvC+tf3Uhwh",
      "include_colab_link": true
    },
    "kernelspec": {
      "name": "python3",
      "display_name": "Python 3"
    },
    "language_info": {
      "name": "python"
    }
  },
  "cells": [
    {
      "cell_type": "markdown",
      "metadata": {
        "id": "view-in-github",
        "colab_type": "text"
      },
      "source": [
        "<a href=\"https://colab.research.google.com/github/taqro/code-write-everyday/blob/master/on_and_off.ipynb\" target=\"_parent\"><img src=\"https://colab.research.google.com/assets/colab-badge.svg\" alt=\"Open In Colab\"/></a>"
      ]
    },
    {
      "cell_type": "code",
      "execution_count": 4,
      "metadata": {
        "colab": {
          "base_uri": "https://localhost:8080/"
        },
        "id": "oYXEUqNTawXP",
        "outputId": "8bbe19da-b3a7-4890-d36b-9b8c4f07dc9d"
      },
      "outputs": [
        {
          "output_type": "stream",
          "name": "stdout",
          "text": [
            "23 0 23\n",
            "Yes\n"
          ]
        }
      ],
      "source": [
        "# 入力\n",
        "S, T, X = map(int, input().split())\n",
        "\n",
        "res = \"No\"\n",
        "\n",
        "if S < T:\n",
        "  if S <= X < T:\n",
        "    res = \"Yes\"\n",
        "\n",
        "if S > T:\n",
        "  if S <= X < 24 or 0 <= X < T:\n",
        "    res = \"Yes\"\n",
        "\n",
        "print(res)\n"
      ]
    }
  ]
}