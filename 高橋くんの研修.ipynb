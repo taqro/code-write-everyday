{
  "nbformat": 4,
  "nbformat_minor": 0,
  "metadata": {
    "colab": {
      "name": "高橋くんの研修.ipynb",
      "provenance": [],
      "authorship_tag": "ABX9TyP5/XMWQ7XgUUUT4OSiRIxL",
      "include_colab_link": true
    },
    "kernelspec": {
      "name": "python3",
      "display_name": "Python 3"
    },
    "language_info": {
      "name": "python"
    }
  },
  "cells": [
    {
      "cell_type": "markdown",
      "metadata": {
        "id": "view-in-github",
        "colab_type": "text"
      },
      "source": [
        "<a href=\"https://colab.research.google.com/github/taqro/code-write-everyday/blob/master/%E9%AB%98%E6%A9%8B%E3%81%8F%E3%82%93%E3%81%AE%E7%A0%94%E4%BF%AE.ipynb\" target=\"_parent\"><img src=\"https://colab.research.google.com/assets/colab-badge.svg\" alt=\"Open In Colab\"/></a>"
      ]
    },
    {
      "cell_type": "code",
      "execution_count": 2,
      "metadata": {
        "colab": {
          "base_uri": "https://localhost:8080/"
        },
        "id": "-ASFJOB_f0uB",
        "outputId": "bb7eb9f7-bb88-4999-8c12-dbd505c7f993"
      },
      "outputs": [
        {
          "output_type": "stream",
          "name": "stdout",
          "text": [
            "ttttiiiimmmmeeee\n",
            "time\n",
            "ttttiiiimmmmeeee\n"
          ]
        }
      ],
      "source": [
        "A = input()\n",
        "B = input()\n",
        "\n",
        "if len(A) > len(B):\n",
        "  print(A)\n",
        "else:\n",
        "  print(B)"
      ]
    }
  ]
}