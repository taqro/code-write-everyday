{
  "nbformat": 4,
  "nbformat_minor": 0,
  "metadata": {
    "colab": {
      "name": "water_pressure.ipynb",
      "provenance": [],
      "authorship_tag": "ABX9TyOTAiNCxDIJTkJcvs7jzJAU",
      "include_colab_link": true
    },
    "kernelspec": {
      "name": "python3",
      "display_name": "Python 3"
    },
    "language_info": {
      "name": "python"
    }
  },
  "cells": [
    {
      "cell_type": "markdown",
      "metadata": {
        "id": "view-in-github",
        "colab_type": "text"
      },
      "source": [
        "<a href=\"https://colab.research.google.com/github/taqro/code-write-everyday/blob/master/water_pressure.ipynb\" target=\"_parent\"><img src=\"https://colab.research.google.com/assets/colab-badge.svg\" alt=\"Open In Colab\"/></a>"
      ]
    },
    {
      "cell_type": "code",
      "execution_count": 1,
      "metadata": {
        "colab": {
          "base_uri": "https://localhost:8080/"
        },
        "id": "PHTihDY_WHD_",
        "outputId": "8f589528-e286-4d19-9fd2-8894cbe380e2"
      },
      "outputs": [
        {
          "output_type": "stream",
          "name": "stdout",
          "text": [
            "50\n",
            "0.5\n"
          ]
        }
      ],
      "source": [
        "# 入力\n",
        "D = int(input())\n",
        "\n",
        "P = D / 100\n",
        "\n",
        "print(P)"
      ]
    }
  ]
}