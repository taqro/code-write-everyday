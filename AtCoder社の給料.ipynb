{
  "nbformat": 4,
  "nbformat_minor": 0,
  "metadata": {
    "colab": {
      "name": "AtCoder社の給料.ipynb",
      "provenance": [],
      "authorship_tag": "ABX9TyMRCo62/nhZ9FY/jL3R8tl0",
      "include_colab_link": true
    },
    "kernelspec": {
      "name": "python3",
      "display_name": "Python 3"
    },
    "language_info": {
      "name": "python"
    }
  },
  "cells": [
    {
      "cell_type": "markdown",
      "metadata": {
        "id": "view-in-github",
        "colab_type": "text"
      },
      "source": [
        "<a href=\"https://colab.research.google.com/github/taqro/code-write-everyday/blob/master/AtCoder%E7%A4%BE%E3%81%AE%E7%B5%A6%E6%96%99.ipynb\" target=\"_parent\"><img src=\"https://colab.research.google.com/assets/colab-badge.svg\" alt=\"Open In Colab\"/></a>"
      ]
    },
    {
      "cell_type": "code",
      "execution_count": 2,
      "metadata": {
        "colab": {
          "base_uri": "https://localhost:8080/"
        },
        "id": "ZvZiOTN7V4io",
        "outputId": "672e0608-c8b9-4281-f8a2-0f565fbf771d"
      },
      "outputs": [
        {
          "output_type": "stream",
          "name": "stdout",
          "text": [
            "91\n",
            "460000.00000000006\n"
          ]
        }
      ],
      "source": [
        "N = int(input())\n",
        "\n",
        "ans = 0\n",
        "for i in range(1, N + 1):\n",
        "  ans += (i * 10000) * (1 / N)\n",
        "\n",
        "print(ans) "
      ]
    }
  ]
}