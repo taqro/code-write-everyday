{
  "nbformat": 4,
  "nbformat_minor": 0,
  "metadata": {
    "colab": {
      "name": "four_digits.ipynb",
      "provenance": [],
      "authorship_tag": "ABX9TyMTfvx0d6oAh/og3r/cGdDT",
      "include_colab_link": true
    },
    "kernelspec": {
      "name": "python3",
      "display_name": "Python 3"
    },
    "language_info": {
      "name": "python"
    }
  },
  "cells": [
    {
      "cell_type": "markdown",
      "metadata": {
        "id": "view-in-github",
        "colab_type": "text"
      },
      "source": [
        "<a href=\"https://colab.research.google.com/github/taqro/code-write-everyday/blob/master/four_digits.ipynb\" target=\"_parent\"><img src=\"https://colab.research.google.com/assets/colab-badge.svg\" alt=\"Open In Colab\"/></a>"
      ]
    },
    {
      "cell_type": "code",
      "execution_count": 4,
      "metadata": {
        "colab": {
          "base_uri": "https://localhost:8080/"
        },
        "id": "TgAh-IBx2VvA",
        "outputId": "1b556bc2-ebd0-4e28-c4fb-3481d2bc0d00"
      },
      "outputs": [
        {
          "output_type": "stream",
          "name": "stdout",
          "text": [
            "1\n",
            "0001\n"
          ]
        }
      ],
      "source": [
        "# 入力\n",
        "N = input()\n",
        "\n",
        "if len(N) == 1:\n",
        "  N = \"000\" + N\n",
        "elif len(N) == 2:\n",
        "  N = \"00\" + N\n",
        "elif len(N) == 3:\n",
        "  N = \"0\" + N\n",
        "\n",
        "print(N)"
      ]
    }
  ]
}